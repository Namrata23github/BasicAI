{
 "cells": [
  {
   "cell_type": "code",
   "execution_count": 3,
   "metadata": {},
   "outputs": [],
   "source": [
    "from sklearn.model_selection import train_test_split\n",
    "from sklearn.preprocessing import StandardScaler\n",
    "from sklearn.linear_model import LinearRegression\n",
    "def linearRegression(x,y,ifStand):\n",
    "    x_train,x_test,y_train,y_test=train_test_split(x,y)\n",
    "    x_train_data =x_train\n",
    "    x_test_data = x_test\n",
    "    if (ifStand == True):\n",
    "        stdScaler = StandardScaler()\n",
    "        stdScaler.fit(x_train)\n",
    "        x_train_data = stdScaler.transform(x_train)\n",
    "        x_test_data = stdScaler.transform(x_test)\n",
    "    \n",
    "    seModel = LinearRegression()\n",
    "    seModel.fit(x_train_data, y_train)\n",
    "    print( \"Train score\", seModel.score(x_train_std,y_train))\n",
    "    print( \"Test score\", seModel.score(x_test_data,y_test))\n",
    "    return seModel;"
   ]
  },
  {
   "cell_type": "code",
   "execution_count": null,
   "metadata": {},
   "outputs": [],
   "source": []
  }
 ],
 "metadata": {
  "kernelspec": {
   "display_name": "Python 3",
   "language": "python",
   "name": "python3"
  },
  "language_info": {
   "codemirror_mode": {
    "name": "ipython",
    "version": 3
   },
   "file_extension": ".py",
   "mimetype": "text/x-python",
   "name": "python",
   "nbconvert_exporter": "python",
   "pygments_lexer": "ipython3",
   "version": "3.7.3"
  }
 },
 "nbformat": 4,
 "nbformat_minor": 2
}
